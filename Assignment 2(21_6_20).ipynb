{
  "nbformat": 4,
  "nbformat_minor": 0,
  "metadata": {
    "colab": {
      "name": "Assignment(21-6-20).ipynb",
      "provenance": [],
      "collapsed_sections": [],
      "authorship_tag": "ABX9TyN9Av1M09KHT8ZFi7K96FNe",
      "include_colab_link": true
    },
    "kernelspec": {
      "name": "python3",
      "display_name": "Python 3"
    }
  },
  "cells": [
    {
      "cell_type": "markdown",
      "metadata": {
        "id": "view-in-github",
        "colab_type": "text"
      },
      "source": [
        "<a href=\"https://colab.research.google.com/github/Vuthukaduharitha/Sai-Haritha/blob/master/Assignment%202(21_6_20).ipynb\" target=\"_parent\"><img src=\"https://colab.research.google.com/assets/colab-badge.svg\" alt=\"Open In Colab\"/></a>"
      ]
    },
    {
      "cell_type": "markdown",
      "metadata": {
        "id": "ZtZ0bO8JygPL",
        "colab_type": "text"
      },
      "source": [
        "write a program python to check whether a person is eligible for voting or not using if else"
      ]
    },
    {
      "cell_type": "code",
      "metadata": {
        "id": "n79qIRSxxfHa",
        "colab_type": "code",
        "colab": {
          "base_uri": "https://localhost:8080/",
          "height": 50
        },
        "outputId": "c81c26aa-7f3f-4e61-b0e5-f0c76be6f180"
      },
      "source": [
        "a=int(input(\"enter your age\"))\n",
        "if a>=18:\n",
        "  print(\"eligible for voting\")\n",
        "else:\n",
        "  print(\"not eligible for voting\")"
      ],
      "execution_count": null,
      "outputs": [
        {
          "output_type": "stream",
          "text": [
            "enter your age18\n",
            "eligible for voting\n"
          ],
          "name": "stdout"
        }
      ]
    },
    {
      "cell_type": "markdown",
      "metadata": {
        "id": "HGWqvVHuz8h2",
        "colab_type": "text"
      },
      "source": [
        "write a program to check whether a number is even or odd using if else"
      ]
    },
    {
      "cell_type": "code",
      "metadata": {
        "id": "eSbicMzg0c6V",
        "colab_type": "code",
        "colab": {
          "base_uri": "https://localhost:8080/",
          "height": 50
        },
        "outputId": "46f36b56-fa37-46d0-b085-821d246d65ed"
      },
      "source": [
        "n=int(input(\"enter a integer\"))\n",
        "if n%2==0:\n",
        "  print(\"it is even number\")\n",
        "else:\n",
        "  print(\"it is odd number\")"
      ],
      "execution_count": null,
      "outputs": [
        {
          "output_type": "stream",
          "text": [
            "enter a integer22\n",
            "it is even number\n"
          ],
          "name": "stdout"
        }
      ]
    },
    {
      "cell_type": "markdown",
      "metadata": {
        "id": "_TnEV4Nc2vSb",
        "colab_type": "text"
      },
      "source": [
        "write a program to print the string in inverse order by using string indexing"
      ]
    },
    {
      "cell_type": "code",
      "metadata": {
        "id": "OJPhM4eq3awG",
        "colab_type": "code",
        "colab": {
          "base_uri": "https://localhost:8080/",
          "height": 34
        },
        "outputId": "d946edbe-f1f9-4e92-8232-ccbd38ba7a44"
      },
      "source": [
        "a= \"haritha\" [:: -1]\n",
        "print(a)"
      ],
      "execution_count": null,
      "outputs": [
        {
          "output_type": "stream",
          "text": [
            "ahtirah\n"
          ],
          "name": "stdout"
        }
      ]
    },
    {
      "cell_type": "code",
      "metadata": {
        "id": "rfC7OM7F4Jv6",
        "colab_type": "code",
        "colab": {}
      },
      "source": [
        "write a python program to check whether a number is positive or not using if else"
      ],
      "execution_count": null,
      "outputs": []
    },
    {
      "cell_type": "code",
      "metadata": {
        "id": "fUN_VlgI4wyz",
        "colab_type": "code",
        "colab": {
          "base_uri": "https://localhost:8080/",
          "height": 50
        },
        "outputId": "13dfa3a2-2354-4c04-86e0-cefad2a9b466"
      },
      "source": [
        "n=int(input(\"enter n\"))\n",
        "if n==0:\n",
        "  print(\"number is zero\")\n",
        "else:\n",
        "  if n>0:\n",
        "    print(\"n is positive\")\n",
        "  else:\n",
        "    print(\"n is negative\")"
      ],
      "execution_count": null,
      "outputs": [
        {
          "output_type": "stream",
          "text": [
            "enter n14\n",
            "n is positive\n"
          ],
          "name": "stdout"
        }
      ]
    },
    {
      "cell_type": "code",
      "metadata": {
        "id": "8wVygMVM5dmX",
        "colab_type": "code",
        "colab": {}
      },
      "source": [
        "write a program using nestedif to check whether a number is positive or negative or zero using python"
      ],
      "execution_count": null,
      "outputs": []
    },
    {
      "cell_type": "code",
      "metadata": {
        "id": "QxRLiSmJ6z1X",
        "colab_type": "code",
        "colab": {
          "base_uri": "https://localhost:8080/",
          "height": 50
        },
        "outputId": "682111b1-279a-4974-9b49-1a0f7fcc1bfa"
      },
      "source": [
        "a=float(input(\"enter a number\"))\n",
        "if a>0:\n",
        "  print(\"positve number\")\n",
        "elif a==0:\n",
        "  print(\"zero\")\n",
        "else:\n",
        "  print(\"negative number\")"
      ],
      "execution_count": null,
      "outputs": [
        {
          "output_type": "stream",
          "text": [
            "enter a number14\n",
            "positve number\n"
          ],
          "name": "stdout"
        }
      ]
    },
    {
      "cell_type": "markdown",
      "metadata": {
        "id": "9sl2TKaUpTIw",
        "colab_type": "text"
      },
      "source": [
        "write a program to read a character and print the given character is vowel or consonent"
      ]
    },
    {
      "cell_type": "code",
      "metadata": {
        "id": "ckwYmu2UpSkv",
        "colab_type": "code",
        "colab": {
          "base_uri": "https://localhost:8080/",
          "height": 50
        },
        "outputId": "774a9d6d-a21c-47d4-ed6a-71b65874658d"
      },
      "source": [
        "ch=input(\"enter a character:\")\n",
        "if (ch=='A' or ch=='a' or ch=='E' or ch=='e' or ch=='O' or ch=='o'):\n",
        "  print(ch,\"is vowel\")\n",
        "else:\n",
        "  print(ch,\"is consonent\")\n"
      ],
      "execution_count": null,
      "outputs": [
        {
          "output_type": "stream",
          "text": [
            "enter a character:A\n",
            "A is vowel\n"
          ],
          "name": "stdout"
        }
      ]
    },
    {
      "cell_type": "markdown",
      "metadata": {
        "id": "vRHMcHjiuL1J",
        "colab_type": "text"
      },
      "source": [
        "write a python program to find the roots of quardratic equation using elif"
      ]
    },
    {
      "cell_type": "code",
      "metadata": {
        "id": "6DhUC4ihuljs",
        "colab_type": "code",
        "colab": {
          "base_uri": "https://localhost:8080/",
          "height": 84
        },
        "outputId": "7e87c88b-4dbb-42bd-dcfd-81e73f456af1"
      },
      "source": [
        "a=float(input(\"enter the value of a quardratic equation: \"))\n",
        "b=float(input(\"enter the value of b quardratic equation: \"))\n",
        "c=float(input(\"enter the value of c quardratic equation: \"))\n",
        "discriminant = (b * b) - (4 * a * c)\n",
        "if(discriminant > 0):\n",
        "   root1 = (-b + math.sqrt(discriminant) / (2 * a))\n",
        "   root2 = (-b - math.sqrt(discriminant) / (2 * a))\n",
        "   print(\"roots are real and unequal \",r1,\"and\",r2)\n",
        "elif(discriminant == 0):\n",
        "   root1 = -b/ (2*a)\n",
        "   print(\"roots are real and same \",r1)\n",
        "else:\n",
        "   print(\"no real roots are there\") \n",
        "   "
      ],
      "execution_count": 19,
      "outputs": [
        {
          "output_type": "stream",
          "text": [
            "enter the value of a quardratic equation: 5\n",
            "enter the value of b quardratic equation: 6\n",
            "enter the value of c quardratic equation: 2\n",
            "no real roots are there\n"
          ],
          "name": "stdout"
        }
      ]
    },
    {
      "cell_type": "markdown",
      "metadata": {
        "id": "FD_VzyGy5J9O",
        "colab_type": "text"
      },
      "source": [
        "write a program to accept a number (1-5) and print the given number in words"
      ]
    },
    {
      "cell_type": "code",
      "metadata": {
        "id": "vz-ApA6s5Yoc",
        "colab_type": "code",
        "colab": {
          "base_uri": "https://localhost:8080/",
          "height": 50
        },
        "outputId": "d22f7cc0-a322-4ef7-b9e3-8b06b4bc47b9"
      },
      "source": [
        "number=(\" \",\"one\",\"two\",\"three\",\"four\",\"five\")\n",
        "n=int(input(\"enter a number\"))\n",
        "print(number [n])"
      ],
      "execution_count": 12,
      "outputs": [
        {
          "output_type": "stream",
          "text": [
            "enter a number3\n",
            "three\n"
          ],
          "name": "stdout"
        }
      ]
    },
    {
      "cell_type": "code",
      "metadata": {
        "id": "DzJrP-1355cC",
        "colab_type": "code",
        "colab": {}
      },
      "source": [
        ""
      ],
      "execution_count": null,
      "outputs": []
    }
  ]
}
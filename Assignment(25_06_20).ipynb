{
  "nbformat": 4,
  "nbformat_minor": 0,
  "metadata": {
    "colab": {
      "name": "Assignment(25-06-20).ipynb",
      "provenance": [],
      "collapsed_sections": [],
      "authorship_tag": "ABX9TyOon81BYW5bW+H3/3TqkUuQ",
      "include_colab_link": true
    },
    "kernelspec": {
      "name": "python3",
      "display_name": "Python 3"
    }
  },
  "cells": [
    {
      "cell_type": "markdown",
      "metadata": {
        "id": "view-in-github",
        "colab_type": "text"
      },
      "source": [
        "<a href=\"https://colab.research.google.com/github/Vuthukaduharitha/Sai-Haritha/blob/master/Assignment(25_06_20).ipynb\" target=\"_parent\"><img src=\"https://colab.research.google.com/assets/colab-badge.svg\" alt=\"Open In Colab\"/></a>"
      ]
    },
    {
      "cell_type": "markdown",
      "metadata": {
        "id": "jheED1v4kesI",
        "colab_type": "text"
      },
      "source": [
        "1.function that returns first and last of a number"
      ]
    },
    {
      "cell_type": "code",
      "metadata": {
        "id": "7jjMNqNzLyOD",
        "colab_type": "code",
        "colab": {
          "base_uri": "https://localhost:8080/",
          "height": 34
        },
        "outputId": "242a53e5-6fc2-4c98-fc39-6c49d1b76652"
      },
      "source": [
        "def firstDigit(n) : \n",
        "    while n >= 10:  \n",
        "        n = n / 10;  \n",
        "    return int(n)  \n",
        "def lastDigit(n) : \n",
        "    return (n % 10) \n",
        "n = 98562; \n",
        "print(firstDigit(n), end = \" \")  \n",
        "print(lastDigit(n)) "
      ],
      "execution_count": 2,
      "outputs": [
        {
          "output_type": "stream",
          "text": [
            "9 2\n"
          ],
          "name": "stdout"
        }
      ]
    },
    {
      "cell_type": "markdown",
      "metadata": {
        "id": "cfEl_XEjkUpy",
        "colab_type": "text"
      },
      "source": [
        "2. generate first n fibonacci numbers"
      ]
    },
    {
      "cell_type": "code",
      "metadata": {
        "id": "jxHPA64ZLz4b",
        "colab_type": "code",
        "colab": {
          "base_uri": "https://localhost:8080/",
          "height": 34
        },
        "outputId": "5ab6e174-7dce-4126-ee27-5d1a86d54f9c"
      },
      "source": [
        "def Fibonacci(n): \n",
        "    if n<0: \n",
        "        print(\"Incorrect input\") \n",
        "    elif n==1: \n",
        "        return 0 \n",
        "    elif n==2: \n",
        "        return 1\n",
        "    else: \n",
        "        return Fibonacci(n-1)+Fibonacci(n-2)  \n",
        "print(Fibonacci(4))"
      ],
      "execution_count": null,
      "outputs": [
        {
          "output_type": "stream",
          "text": [
            "2\n"
          ],
          "name": "stdout"
        }
      ]
    },
    {
      "cell_type": "markdown",
      "metadata": {
        "id": "2qv3yZEdgfb4",
        "colab_type": "text"
      },
      "source": [
        " 3.function N number of marks and names from user and display the names of fail students (marks<40).take N value from user"
      ]
    },
    {
      "cell_type": "code",
      "metadata": {
        "id": "8Bi2NFS3PI26",
        "colab_type": "code",
        "colab": {
          "base_uri": "https://localhost:8080/",
          "height": 202
        },
        "outputId": "52bb55dd-221a-4175-d04f-28b877f890cf"
      },
      "source": [
        "students=[]\n",
        "for num in range(5):\n",
        "    x=input(\"Enter name of students: \")\n",
        "    students.append(x)\n",
        "\n",
        "marks=[]\n",
        "for num in range(5):\n",
        "    y=input(\"Enter marks of students:\")\n",
        "    marks.append(y)\n",
        "\n",
        "report = input(\"Do you want to print class report?: \")\n",
        "if report == 'yes':\n",
        "    print(x[0],\":\", y[0])\n",
        "    print(x[1],\":\", y[1])\n",
        "    print(x[2],\":\", y[2])\n",
        "    print(x[3],\":\", y[3])\n",
        "    print(x[4],\":\", y[4])"
      ],
      "execution_count": 3,
      "outputs": [
        {
          "output_type": "stream",
          "text": [
            "Enter name of students: haritha\n",
            "Enter name of students: keerthu\n",
            "Enter name of students: akhila\n",
            "Enter name of students: uma\n",
            "Enter name of students: leena\n",
            "Enter marks of students:10\n",
            "Enter marks of students:20\n",
            "Enter marks of students:30\n",
            "Enter marks of students:30\n",
            "Enter marks of students:40\n",
            "Do you want to print class report?: 40\n"
          ],
          "name": "stdout"
        }
      ]
    },
    {
      "cell_type": "markdown",
      "metadata": {
        "id": "Td1V2tczkCT5",
        "colab_type": "text"
      },
      "source": [
        " 4.display multiplication table and take value from user"
      ]
    },
    {
      "cell_type": "code",
      "metadata": {
        "id": "igl9IwDji8dM",
        "colab_type": "code",
        "colab": {
          "base_uri": "https://localhost:8080/",
          "height": 185
        },
        "outputId": "526a1803-4dd1-4b4b-a65f-a789be911782"
      },
      "source": [
        "num = 12\n",
        "for i in range(1, 11):\n",
        "   print(num, 'x', i, '=', num*i)"
      ],
      "execution_count": 11,
      "outputs": [
        {
          "output_type": "stream",
          "text": [
            "12 x 1 = 12\n",
            "12 x 2 = 24\n",
            "12 x 3 = 36\n",
            "12 x 4 = 48\n",
            "12 x 5 = 60\n",
            "12 x 6 = 72\n",
            "12 x 7 = 84\n",
            "12 x 8 = 96\n",
            "12 x 9 = 108\n",
            "12 x 10 = 120\n"
          ],
          "name": "stdout"
        }
      ]
    },
    {
      "cell_type": "markdown",
      "metadata": {
        "id": "0pOB3Oeuk9mV",
        "colab_type": "text"
      },
      "source": [
        "5.take numbers from user until the number is -1  and display the product and average of all numbers"
      ]
    },
    {
      "cell_type": "code",
      "metadata": {
        "id": "IKJJKal4j2cu",
        "colab_type": "code",
        "colab": {
          "base_uri": "https://localhost:8080/",
          "height": 84
        },
        "outputId": "6001fb1f-260f-4e62-c848-2bcfb7a85554"
      },
      "source": [
        "first_number = int(input(\"Please enter the first Value: \"))\n",
        "second_number = int(input(\"Please enter another number: \"))\n",
        "product = first_number * second_number\n",
        "average = (first_number + second_number) / 2\n",
        "\n",
        "print('product is {}'.format(product))\n",
        "print('average is {}'.format(average))"
      ],
      "execution_count": 14,
      "outputs": [
        {
          "output_type": "stream",
          "text": [
            "Please enter the first Value: -2\n",
            "Please enter another number: -1\n",
            "product is 2\n",
            "average is -1.5\n"
          ],
          "name": "stdout"
        }
      ]
    },
    {
      "cell_type": "code",
      "metadata": {
        "id": "tXrGZzFRmJsv",
        "colab_type": "code",
        "colab": {}
      },
      "source": [
        ""
      ],
      "execution_count": null,
      "outputs": []
    }
  ]
}
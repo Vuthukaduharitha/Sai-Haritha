{
  "nbformat": 4,
  "nbformat_minor": 0,
  "metadata": {
    "colab": {
      "name": "Assessment(4-7-20).ipynb",
      "provenance": [],
      "collapsed_sections": [],
      "authorship_tag": "ABX9TyPeFJJpah+VV8N+xDTi5iBE",
      "include_colab_link": true
    },
    "kernelspec": {
      "name": "python3",
      "display_name": "Python 3"
    }
  },
  "cells": [
    {
      "cell_type": "markdown",
      "metadata": {
        "id": "view-in-github",
        "colab_type": "text"
      },
      "source": [
        "<a href=\"https://colab.research.google.com/github/Vuthukaduharitha/Sai-Haritha/blob/master/Assessment(4_7_20).ipynb\" target=\"_parent\"><img src=\"https://colab.research.google.com/assets/colab-badge.svg\" alt=\"Open In Colab\"/></a>"
      ]
    },
    {
      "cell_type": "markdown",
      "metadata": {
        "id": "8tBMIo5U7Qkh",
        "colab_type": "text"
      },
      "source": [
        "1.What is dictionary in Python? Explain with an example"
      ]
    },
    {
      "cell_type": "markdown",
      "metadata": {
        "id": "HmA5PDmZ7Xyz",
        "colab_type": "text"
      },
      "source": [
        "Dictionaries are another example of a data structure. A dictionary is used to map or associate things you want to store the keys you need to get them. A dictionary in Python is just like a dictionary in the real world. Python Dictionary are defined into two elements Keys and Values. Values can be a list or list within a list, numbers, etc."
      ]
    },
    {
      "cell_type": "markdown",
      "metadata": {
        "id": "LGzgE14n7t9x",
        "colab_type": "text"
      },
      "source": [
        "eg"
      ]
    },
    {
      "cell_type": "code",
      "metadata": {
        "id": "Kbjyj_Gb600I",
        "colab_type": "code",
        "colab": {
          "base_uri": "https://localhost:8080/",
          "height": 52
        },
        "outputId": "86c11649-df15-42bb-be3a-b7fa04718baa"
      },
      "source": [
        "mydict = {'StuName': 'Ajeet', 'StuAge': 30, 'StuCity': 'Agra'}\n",
        "print(\"Student Age is:\", mydict['StuAge'])\n",
        "print(\"Student City is:\", mydict['StuCity'])"
      ],
      "execution_count": 1,
      "outputs": [
        {
          "output_type": "stream",
          "text": [
            "Student Age is: 30\n",
            "Student City is: Agra\n"
          ],
          "name": "stdout"
        }
      ]
    },
    {
      "cell_type": "markdown",
      "metadata": {
        "id": "7Y_uDPfn7y43",
        "colab_type": "text"
      },
      "source": [
        "2.Write a Python program to sum all the items in a list"
      ]
    },
    {
      "cell_type": "code",
      "metadata": {
        "id": "tCxwyLY_75C9",
        "colab_type": "code",
        "colab": {
          "base_uri": "https://localhost:8080/",
          "height": 35
        },
        "outputId": "f41db34e-0084-4244-99d6-bb598c0ccb5f"
      },
      "source": [
        "def sum_list(items):\n",
        "    sum_numbers = 0\n",
        "    for x in items:\n",
        "        sum_numbers += x\n",
        "    return sum_numbers\n",
        "print(sum_list([1,2,-8]))"
      ],
      "execution_count": 2,
      "outputs": [
        {
          "output_type": "stream",
          "text": [
            "-5\n"
          ],
          "name": "stdout"
        }
      ]
    },
    {
      "cell_type": "markdown",
      "metadata": {
        "id": "91vzN3i38gNU",
        "colab_type": "text"
      },
      "source": [
        "3.Write a Python program to create a list of empty dictionaries."
      ]
    },
    {
      "cell_type": "code",
      "metadata": {
        "id": "AvBe4EvA8SDf",
        "colab_type": "code",
        "colab": {}
      },
      "source": [
        "n = 5\n",
        "l = [{} for _ in range(n)]\n",
        "print(l)"
      ],
      "execution_count": null,
      "outputs": []
    },
    {
      "cell_type": "markdown",
      "metadata": {
        "id": "bXE52QlX8n0l",
        "colab_type": "text"
      },
      "source": [
        "4.Write a Python program to access dictionary keys element by index"
      ]
    },
    {
      "cell_type": "code",
      "metadata": {
        "id": "fcUTwKkG81xD",
        "colab_type": "code",
        "colab": {
          "base_uri": "https://localhost:8080/",
          "height": 35
        },
        "outputId": "a87784ee-b793-41b0-c9f3-181998358ccf"
      },
      "source": [
        "num = {'physics': 80, 'math': 90, 'chemistry': 86}\n",
        "print(list(num)[0])"
      ],
      "execution_count": 3,
      "outputs": [
        {
          "output_type": "stream",
          "text": [
            "physics\n"
          ],
          "name": "stdout"
        }
      ]
    },
    {
      "cell_type": "markdown",
      "metadata": {
        "id": "heFg4jxP87fg",
        "colab_type": "text"
      },
      "source": [
        "5.Write a Python program to iterate over dictionaries using for loops"
      ]
    },
    {
      "cell_type": "code",
      "metadata": {
        "id": "RR9x8fPO9VrX",
        "colab_type": "code",
        "colab": {
          "base_uri": "https://localhost:8080/",
          "height": 70
        },
        "outputId": "60971920-61b3-425f-9628-11f959e8e002"
      },
      "source": [
        "d = {'Red': 1, 'Green': 2, 'Blue': 3} \n",
        "for color_key, value in d.items():\n",
        "     print(color_key, 'corresponds to ', d[color_key]) "
      ],
      "execution_count": 5,
      "outputs": [
        {
          "output_type": "stream",
          "text": [
            "Red corresponds to  1\n",
            "Green corresponds to  2\n",
            "Blue corresponds to  3\n"
          ],
          "name": "stdout"
        }
      ]
    },
    {
      "cell_type": "markdown",
      "metadata": {
        "id": "d3rwDZeP9k_t",
        "colab_type": "text"
      },
      "source": [
        "6.Write a Python program to sum all the items in a dictionary."
      ]
    },
    {
      "cell_type": "code",
      "metadata": {
        "id": "ARngSJsW9g8a",
        "colab_type": "code",
        "colab": {
          "base_uri": "https://localhost:8080/",
          "height": 52
        },
        "outputId": "67211e17-312a-477a-8843-9007f4ee8fc2"
      },
      "source": [
        "d={'A':100,'B':540,'C':239}\n",
        "print(\"Total sum of values in the dictionary:\")\n",
        "print(sum(d.values()))"
      ],
      "execution_count": 6,
      "outputs": [
        {
          "output_type": "stream",
          "text": [
            "Total sum of values in the dictionary:\n",
            "879\n"
          ],
          "name": "stdout"
        }
      ]
    },
    {
      "cell_type": "markdown",
      "metadata": {
        "id": "_8yMEha-9wAN",
        "colab_type": "text"
      },
      "source": [
        "7.Write a Python script to concatenate following dictionaries to create a new\n",
        "one. Sample Dictionary :\n",
        "a. dic1={1:10, 2:20}\n",
        "b. dic2={3:30, 4:40}\n",
        "c. dic3={5:50,6:60}"
      ]
    },
    {
      "cell_type": "code",
      "metadata": {
        "id": "0000ggTd9u2C",
        "colab_type": "code",
        "colab": {
          "base_uri": "https://localhost:8080/",
          "height": 35
        },
        "outputId": "86342fde-8f1b-4fd6-fce2-0d73c01c317a"
      },
      "source": [
        "dic1={1:10, 2:20}\n",
        "dic2={3:30, 4:40}\n",
        "dic3={5:50,6:60}\n",
        "dic4 = {}\n",
        "for d in (dic1, dic2, dic3): dic4.update(d)\n",
        "print(dic4)"
      ],
      "execution_count": 7,
      "outputs": [
        {
          "output_type": "stream",
          "text": [
            "{1: 10, 2: 20, 3: 30, 4: 40, 5: 50, 6: 60}\n"
          ],
          "name": "stdout"
        }
      ]
    },
    {
      "cell_type": "markdown",
      "metadata": {
        "id": "jrZ80uDN-DDS",
        "colab_type": "text"
      },
      "source": [
        "8.Expected Result : {1: 10, 2: 20, 3: 30, 4: 40, 5: 50, 6: 60}"
      ]
    },
    {
      "cell_type": "code",
      "metadata": {
        "id": "bUc9uC7k-B70",
        "colab_type": "code",
        "colab": {
          "base_uri": "https://localhost:8080/",
          "height": 35
        },
        "outputId": "09a37865-3be2-4717-ef73-5f28718551ac"
      },
      "source": [
        "dic1={1:10, 2:20}\n",
        "dic2={3:30, 4:40}\n",
        "dic3={5:50,6:60}\n",
        "dic4 = {}\n",
        "for d in (dic1, dic2, dic3): dic4.update(d)\n",
        "print(dic4)"
      ],
      "execution_count": 8,
      "outputs": [
        {
          "output_type": "stream",
          "text": [
            "{1: 10, 2: 20, 3: 30, 4: 40, 5: 50, 6: 60}\n"
          ],
          "name": "stdout"
        }
      ]
    },
    {
      "cell_type": "markdown",
      "metadata": {
        "id": "HTmJGMZP-YLQ",
        "colab_type": "text"
      },
      "source": [
        "9.Write a Python program to create a tuple"
      ]
    },
    {
      "cell_type": "code",
      "metadata": {
        "id": "b6Djw8BK-W8_",
        "colab_type": "code",
        "colab": {
          "base_uri": "https://localhost:8080/",
          "height": 52
        },
        "outputId": "3bfa16fe-9b1c-41e2-9445-777ddc5f4151"
      },
      "source": [
        "#Create an empty tuple \n",
        "x = ()\n",
        "print(x)\n",
        "#Create an empty tuple with tuple() function built-in Python\n",
        "tuplex = tuple()\n",
        "print(tuplex)"
      ],
      "execution_count": 9,
      "outputs": [
        {
          "output_type": "stream",
          "text": [
            "()\n",
            "()\n"
          ],
          "name": "stdout"
        }
      ]
    },
    {
      "cell_type": "markdown",
      "metadata": {
        "id": "wVT1RTuv_reP",
        "colab_type": "text"
      },
      "source": [
        "10.Write a Python program to create a tuple with different data types"
      ]
    },
    {
      "cell_type": "code",
      "metadata": {
        "id": "SEHpl_j__mZ_",
        "colab_type": "code",
        "colab": {
          "base_uri": "https://localhost:8080/",
          "height": 35
        },
        "outputId": "cb942c2c-a150-431c-a4d0-853afb499bac"
      },
      "source": [
        "tuplex = (\"tuple\", False, 3.2, 1)\n",
        "print(tuplex)"
      ],
      "execution_count": 10,
      "outputs": [
        {
          "output_type": "stream",
          "text": [
            "('tuple', False, 3.2, 1)\n"
          ],
          "name": "stdout"
        }
      ]
    },
    {
      "cell_type": "markdown",
      "metadata": {
        "id": "cR6lsoFo_103",
        "colab_type": "text"
      },
      "source": [
        "11.Write a Python program to convert a tuple to a string"
      ]
    },
    {
      "cell_type": "code",
      "metadata": {
        "id": "J5v1ur4X_0-E",
        "colab_type": "code",
        "colab": {
          "base_uri": "https://localhost:8080/",
          "height": 35
        },
        "outputId": "5d665652-94ce-469c-a0bb-305f673a7230"
      },
      "source": [
        "tup = ('e', 'x', 'e', 'r', 'c', 'i', 's', 'e', 's')\n",
        "str =  ''.join(tup)\n",
        "print(str)"
      ],
      "execution_count": 11,
      "outputs": [
        {
          "output_type": "stream",
          "text": [
            "exercises\n"
          ],
          "name": "stdout"
        }
      ]
    },
    {
      "cell_type": "markdown",
      "metadata": {
        "id": "W3W_E8rUAH_7",
        "colab_type": "text"
      },
      "source": [
        "12..Write a Python program to slice a tuple"
      ]
    },
    {
      "cell_type": "code",
      "metadata": {
        "id": "GhaauR1OAz_Y",
        "colab_type": "code",
        "colab": {
          "base_uri": "https://localhost:8080/",
          "height": 88
        },
        "outputId": "1310823c-0a1a-4530-f0f3-779c58ef6fc2"
      },
      "source": [
        "my_tuple = ()\n",
        "print(my_tuple)\n",
        "\n",
        "# Tuple having integers\n",
        "my_tuple = (1, 2, 3)\n",
        "print(my_tuple)\n",
        "\n",
        "# tuple with mixed datatypes\n",
        "my_tuple = (1, \"Hello\", 3.4)\n",
        "print(my_tuple)\n",
        "\n",
        "# nested tuple\n",
        "my_tuple = (\"mouse\", [8, 4, 6], (1, 2, 3))\n",
        "print(my_tuple)"
      ],
      "execution_count": 14,
      "outputs": [
        {
          "output_type": "stream",
          "text": [
            "()\n",
            "(1, 2, 3)\n",
            "(1, 'Hello', 3.4)\n",
            "('mouse', [8, 4, 6], (1, 2, 3))\n"
          ],
          "name": "stdout"
        }
      ]
    },
    {
      "cell_type": "markdown",
      "metadata": {
        "id": "GM_cH8gIBaIq",
        "colab_type": "text"
      },
      "source": [
        "13..Write a Python program to find the length of a tuple."
      ]
    },
    {
      "cell_type": "code",
      "metadata": {
        "id": "GjQDjDqiBWA7",
        "colab_type": "code",
        "colab": {
          "base_uri": "https://localhost:8080/",
          "height": 52
        },
        "outputId": "8d7a8f2e-c288-4b68-c6da-70921a73fb00"
      },
      "source": [
        "tuplex = tuple(\"Haritha\")\n",
        "print(tuplex)\n",
        "print(len(tuplex))"
      ],
      "execution_count": 15,
      "outputs": [
        {
          "output_type": "stream",
          "text": [
            "('H', 'a', 'r', 'i', 't', 'h', 'a')\n",
            "7\n"
          ],
          "name": "stdout"
        }
      ]
    },
    {
      "cell_type": "markdown",
      "metadata": {
        "id": "HNtnVuWXBnvA",
        "colab_type": "text"
      },
      "source": [
        "14.Write a Python program to convert a tuple to a dictionary"
      ]
    },
    {
      "cell_type": "code",
      "metadata": {
        "id": "63iSn5QnBly1",
        "colab_type": "code",
        "colab": {
          "base_uri": "https://localhost:8080/",
          "height": 35
        },
        "outputId": "15c61fcb-d81c-4958-fd56-455a0d5f440e"
      },
      "source": [
        "tuplex = ((2, \"w\"),(3, \"r\"))\n",
        "print(dict((y, x) for x, y in tuplex))"
      ],
      "execution_count": 16,
      "outputs": [
        {
          "output_type": "stream",
          "text": [
            "{'w': 2, 'r': 3}\n"
          ],
          "name": "stdout"
        }
      ]
    },
    {
      "cell_type": "markdown",
      "metadata": {
        "id": "XWt2fD1qB1QB",
        "colab_type": "text"
      },
      "source": [
        "15..Write a Python program to reverse a tuple"
      ]
    },
    {
      "cell_type": "code",
      "metadata": {
        "id": "UHmKo-KlB0FC",
        "colab_type": "code",
        "colab": {
          "base_uri": "https://localhost:8080/",
          "height": 52
        },
        "outputId": "0f44b906-3768-4ac6-e56f-f89005af497d"
      },
      "source": [
        "x = (\"w3resource\")\n",
        "# Reversed the tuple\n",
        "y = reversed(x)\n",
        "print(tuple(y))\n",
        "#create another tuple\n",
        "x = (5, 10, 15, 20)\n",
        "# Reversed the tuple\n",
        "y = reversed(x)\n",
        "print(tuple(y))"
      ],
      "execution_count": 17,
      "outputs": [
        {
          "output_type": "stream",
          "text": [
            "('e', 'c', 'r', 'u', 'o', 's', 'e', 'r', '3', 'w')\n",
            "(20, 15, 10, 5)\n"
          ],
          "name": "stdout"
        }
      ]
    },
    {
      "cell_type": "markdown",
      "metadata": {
        "id": "mRYHV2PZCI3i",
        "colab_type": "text"
      },
      "source": [
        "16..Write a Python program to convert a list of tuples into a dictionary"
      ]
    },
    {
      "cell_type": "code",
      "metadata": {
        "id": "zwaA7IOoCHzY",
        "colab_type": "code",
        "colab": {
          "base_uri": "https://localhost:8080/",
          "height": 35
        },
        "outputId": "50946c49-9fa1-40a9-c9a6-37f914414410"
      },
      "source": [
        "l = [(\"x\", 1), (\"x\", 2), (\"x\", 3), (\"y\", 1), (\"y\", 2), (\"z\", 1)]\n",
        "d = {}\n",
        "for a, b in l:\n",
        "    d.setdefault(a, []).append(b)\n",
        "print (d)"
      ],
      "execution_count": 18,
      "outputs": [
        {
          "output_type": "stream",
          "text": [
            "{'x': [1, 2, 3], 'y': [1, 2], 'z': [1]}\n"
          ],
          "name": "stdout"
        }
      ]
    },
    {
      "cell_type": "markdown",
      "metadata": {
        "id": "82PfuuGkCYkH",
        "colab_type": "text"
      },
      "source": [
        "17..Write a Python program to convert a list to a tuple."
      ]
    },
    {
      "cell_type": "code",
      "metadata": {
        "id": "kCh79DYZCXkU",
        "colab_type": "code",
        "colab": {
          "base_uri": "https://localhost:8080/",
          "height": 52
        },
        "outputId": "33758aad-b23e-4627-c832-7125e138b3ab"
      },
      "source": [
        "#Convert list to tuple\n",
        "listx = [5, 10, 7, 4, 15, 3]\n",
        "print(listx)\n",
        "#use the tuple() function built-in Python, passing as parameter the list\n",
        "tuplex = tuple(listx)\n",
        "print(tuplex)"
      ],
      "execution_count": 19,
      "outputs": [
        {
          "output_type": "stream",
          "text": [
            "[5, 10, 7, 4, 15, 3]\n",
            "(5, 10, 7, 4, 15, 3)\n"
          ],
          "name": "stdout"
        }
      ]
    },
    {
      "cell_type": "code",
      "metadata": {
        "id": "-P8u1mqWCsuM",
        "colab_type": "code",
        "colab": {}
      },
      "source": [
        ""
      ],
      "execution_count": null,
      "outputs": []
    }
  ]
}
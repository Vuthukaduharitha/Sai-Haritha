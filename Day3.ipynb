{
  "nbformat": 4,
  "nbformat_minor": 0,
  "metadata": {
    "colab": {
      "name": "Day3.ipynb",
      "provenance": [],
      "collapsed_sections": [],
      "authorship_tag": "ABX9TyMjL6pqN/qDDxTlOkSxxW7m",
      "include_colab_link": true
    },
    "kernelspec": {
      "name": "python3",
      "display_name": "Python 3"
    }
  },
  "cells": [
    {
      "cell_type": "markdown",
      "metadata": {
        "id": "view-in-github",
        "colab_type": "text"
      },
      "source": [
        "<a href=\"https://colab.research.google.com/github/Vuthukaduharitha/Sai-Haritha/blob/master/Day3.ipynb\" target=\"_parent\"><img src=\"https://colab.research.google.com/assets/colab-badge.svg\" alt=\"Open In Colab\"/></a>"
      ]
    },
    {
      "cell_type": "code",
      "metadata": {
        "id": "AhBraxgQvuvV",
        "colab_type": "code",
        "colab": {
          "base_uri": "https://localhost:8080/",
          "height": 34
        },
        "outputId": "f7c5c440-44f4-4a55-a2c9-51fdc32edef1"
      },
      "source": [
        " s1=\"hello good morning\"\n",
        "len(s1)"
      ],
      "execution_count": 4,
      "outputs": [
        {
          "output_type": "execute_result",
          "data": {
            "text/plain": [
              "18"
            ]
          },
          "metadata": {
            "tags": []
          },
          "execution_count": 4
        }
      ]
    },
    {
      "cell_type": "code",
      "metadata": {
        "id": "DxT9GLuYxQ43",
        "colab_type": "code",
        "colab": {
          "base_uri": "https://localhost:8080/",
          "height": 34
        },
        "outputId": "daf0c5cc-072f-4465-8b56-79006dde5fa0"
      },
      "source": [
        "s1[-1]"
      ],
      "execution_count": 5,
      "outputs": [
        {
          "output_type": "execute_result",
          "data": {
            "text/plain": [
              "'g'"
            ]
          },
          "metadata": {
            "tags": []
          },
          "execution_count": 5
        }
      ]
    },
    {
      "cell_type": "code",
      "metadata": {
        "id": "OTdAqP2oxip8",
        "colab_type": "code",
        "colab": {
          "base_uri": "https://localhost:8080/",
          "height": 34
        },
        "outputId": "2bff2215-b3f9-447a-c1b3-ab628550af53"
      },
      "source": [
        "s1[-2]"
      ],
      "execution_count": 6,
      "outputs": [
        {
          "output_type": "execute_result",
          "data": {
            "text/plain": [
              "'n'"
            ]
          },
          "metadata": {
            "tags": []
          },
          "execution_count": 6
        }
      ]
    },
    {
      "cell_type": "code",
      "metadata": {
        "id": "UiQdD46Txmmo",
        "colab_type": "code",
        "colab": {
          "base_uri": "https://localhost:8080/",
          "height": 34
        },
        "outputId": "fa5563b8-52db-4765-80f7-ac80503046fc"
      },
      "source": [
        "s1[:]"
      ],
      "execution_count": 7,
      "outputs": [
        {
          "output_type": "execute_result",
          "data": {
            "text/plain": [
              "'hello good morning'"
            ]
          },
          "metadata": {
            "tags": []
          },
          "execution_count": 7
        }
      ]
    },
    {
      "cell_type": "code",
      "metadata": {
        "id": "QEBQovt6xpmI",
        "colab_type": "code",
        "colab": {
          "base_uri": "https://localhost:8080/",
          "height": 34
        },
        "outputId": "652a6df4-f781-483d-dbbd-f053c6bdd0b2"
      },
      "source": [
        "s1=\"hello how are you\"\n",
        "s1[::]"
      ],
      "execution_count": 8,
      "outputs": [
        {
          "output_type": "execute_result",
          "data": {
            "text/plain": [
              "'hello how are you'"
            ]
          },
          "metadata": {
            "tags": []
          },
          "execution_count": 8
        }
      ]
    },
    {
      "cell_type": "code",
      "metadata": {
        "id": "JSWLGheGxxW8",
        "colab_type": "code",
        "colab": {
          "base_uri": "https://localhost:8080/",
          "height": 34
        },
        "outputId": "e900db4d-7868-4b57-e230-115df3622792"
      },
      "source": [
        "s1[5:10]"
      ],
      "execution_count": 9,
      "outputs": [
        {
          "output_type": "execute_result",
          "data": {
            "text/plain": [
              "' how '"
            ]
          },
          "metadata": {
            "tags": []
          },
          "execution_count": 9
        }
      ]
    },
    {
      "cell_type": "code",
      "metadata": {
        "id": "nMxbaFUMx3LR",
        "colab_type": "code",
        "colab": {
          "base_uri": "https://localhost:8080/",
          "height": 34
        },
        "outputId": "5082fabd-f797-4734-c85e-c18535a45710"
      },
      "source": [
        "s1[:10:2]"
      ],
      "execution_count": 10,
      "outputs": [
        {
          "output_type": "execute_result",
          "data": {
            "text/plain": [
              "'hlohw'"
            ]
          },
          "metadata": {
            "tags": []
          },
          "execution_count": 10
        }
      ]
    },
    {
      "cell_type": "code",
      "metadata": {
        "id": "F5hAZQs2yBt5",
        "colab_type": "code",
        "colab": {
          "base_uri": "https://localhost:8080/",
          "height": 67
        },
        "outputId": "8f3c9bed-de9b-49fe-ffe7-2d3808c59faa"
      },
      "source": [
        "#Boolen expressions (relational operators-comparision operators <,<=,>=,==,!=)\n",
        "print(2==2)\n",
        "print(2>=3)\n",
        "print(1!=5)\n"
      ],
      "execution_count": 11,
      "outputs": [
        {
          "output_type": "stream",
          "text": [
            "True\n",
            "False\n",
            "True\n"
          ],
          "name": "stdout"
        }
      ]
    },
    {
      "cell_type": "code",
      "metadata": {
        "id": "gFlvPArryrVY",
        "colab_type": "code",
        "colab": {
          "base_uri": "https://localhost:8080/",
          "height": 34
        },
        "outputId": "55fb59fb-9e10-46eb-fcb5-e74f8d922633"
      },
      "source": [
        "a=15\n",
        "b=5\n",
        "c=a>b\n",
        "print(c)"
      ],
      "execution_count": 12,
      "outputs": [
        {
          "output_type": "stream",
          "text": [
            "True\n"
          ],
          "name": "stdout"
        }
      ]
    },
    {
      "cell_type": "code",
      "metadata": {
        "id": "lKHjdPQsy5uD",
        "colab_type": "code",
        "colab": {
          "base_uri": "https://localhost:8080/",
          "height": 34
        },
        "outputId": "20e1ea42-d80a-4d0c-c43f-6367abdc3ec7"
      },
      "source": [
        "a=14\n",
        "b=22\n",
        "c=a>b\n",
        "d=a<b\n",
        "print(c,d)"
      ],
      "execution_count": 13,
      "outputs": [
        {
          "output_type": "stream",
          "text": [
            "False True\n"
          ],
          "name": "stdout"
        }
      ]
    },
    {
      "cell_type": "code",
      "metadata": {
        "id": "JB0pOxvbzLYn",
        "colab_type": "code",
        "colab": {
          "base_uri": "https://localhost:8080/",
          "height": 34
        },
        "outputId": "c216a7a7-e5bb-47dc-fa82-2b783ba1a44f"
      },
      "source": [
        "a=15\n",
        "b=100\n",
        "c=a>b\n",
        "d=a<b\n",
        "print(c,d,sep=\"   ***  \")"
      ],
      "execution_count": 15,
      "outputs": [
        {
          "output_type": "stream",
          "text": [
            "False   ***  True\n"
          ],
          "name": "stdout"
        }
      ]
    },
    {
      "cell_type": "code",
      "metadata": {
        "id": "7_bTb-47zjOD",
        "colab_type": "code",
        "colab": {
          "base_uri": "https://localhost:8080/",
          "height": 34
        },
        "outputId": "79c78566-9088-44d2-fdf5-c3ebad178f76"
      },
      "source": [
        "#Logical operators and.or,not\n",
        "1<2<3"
      ],
      "execution_count": 16,
      "outputs": [
        {
          "output_type": "execute_result",
          "data": {
            "text/plain": [
              "True"
            ]
          },
          "metadata": {
            "tags": []
          },
          "execution_count": 16
        }
      ]
    },
    {
      "cell_type": "code",
      "metadata": {
        "id": "bjNjZI6Iz9r_",
        "colab_type": "code",
        "colab": {
          "base_uri": "https://localhost:8080/",
          "height": 34
        },
        "outputId": "5303c6b4-d6f5-49cf-9eb9-08372b0fc16c"
      },
      "source": [
        "1<2 and 2<3"
      ],
      "execution_count": 17,
      "outputs": [
        {
          "output_type": "execute_result",
          "data": {
            "text/plain": [
              "True"
            ]
          },
          "metadata": {
            "tags": []
          },
          "execution_count": 17
        }
      ]
    },
    {
      "cell_type": "code",
      "metadata": {
        "id": "RuZaPVqD0DfC",
        "colab_type": "code",
        "colab": {
          "base_uri": "https://localhost:8080/",
          "height": 34
        },
        "outputId": "46cc145d-69dd-41bd-8ff8-9844b5a130f6"
      },
      "source": [
        "1<2 & 2<3"
      ],
      "execution_count": 18,
      "outputs": [
        {
          "output_type": "execute_result",
          "data": {
            "text/plain": [
              "True"
            ]
          },
          "metadata": {
            "tags": []
          },
          "execution_count": 18
        }
      ]
    },
    {
      "cell_type": "code",
      "metadata": {
        "id": "F3CErAwF0WXT",
        "colab_type": "code",
        "colab": {
          "base_uri": "https://localhost:8080/",
          "height": 34
        },
        "outputId": "ce1c4a03-736e-4cfa-8a2b-dd3f3fe5e121"
      },
      "source": [
        "1==1 or 3>2"
      ],
      "execution_count": 19,
      "outputs": [
        {
          "output_type": "execute_result",
          "data": {
            "text/plain": [
              "True"
            ]
          },
          "metadata": {
            "tags": []
          },
          "execution_count": 19
        }
      ]
    },
    {
      "cell_type": "code",
      "metadata": {
        "id": "PymNpQ6i0cey",
        "colab_type": "code",
        "colab": {
          "base_uri": "https://localhost:8080/",
          "height": 34
        },
        "outputId": "3b49887f-e54a-42ca-a785-b567baa9f6d8"
      },
      "source": [
        "1>2 or 2>3"
      ],
      "execution_count": 20,
      "outputs": [
        {
          "output_type": "execute_result",
          "data": {
            "text/plain": [
              "False"
            ]
          },
          "metadata": {
            "tags": []
          },
          "execution_count": 20
        }
      ]
    },
    {
      "cell_type": "code",
      "metadata": {
        "id": "TY1kAhiQ0hsX",
        "colab_type": "code",
        "colab": {
          "base_uri": "https://localhost:8080/",
          "height": 34
        },
        "outputId": "c937ce05-3b76-4283-e318-cd3157d6eac7"
      },
      "source": [
        "1>3 or 3>2"
      ],
      "execution_count": 21,
      "outputs": [
        {
          "output_type": "execute_result",
          "data": {
            "text/plain": [
              "True"
            ]
          },
          "metadata": {
            "tags": []
          },
          "execution_count": 21
        }
      ]
    },
    {
      "cell_type": "code",
      "metadata": {
        "id": "JNb04F-k0lL9",
        "colab_type": "code",
        "colab": {
          "base_uri": "https://localhost:8080/",
          "height": 34
        },
        "outputId": "4fd27e1b-01a2-47a7-8e70-18d860f27a87"
      },
      "source": [
        "1==1 / 2>3"
      ],
      "execution_count": 22,
      "outputs": [
        {
          "output_type": "execute_result",
          "data": {
            "text/plain": [
              "False"
            ]
          },
          "metadata": {
            "tags": []
          },
          "execution_count": 22
        }
      ]
    },
    {
      "cell_type": "code",
      "metadata": {
        "id": "tTI-j45a06yc",
        "colab_type": "code",
        "colab": {
          "base_uri": "https://localhost:8080/",
          "height": 34
        },
        "outputId": "fde80036-6137-4239-d30e-5e307218a16c"
      },
      "source": [
        "not()"
      ],
      "execution_count": 24,
      "outputs": [
        {
          "output_type": "execute_result",
          "data": {
            "text/plain": [
              "True"
            ]
          },
          "metadata": {
            "tags": []
          },
          "execution_count": 24
        }
      ]
    },
    {
      "cell_type": "code",
      "metadata": {
        "id": "VhBtDrJS1GGL",
        "colab_type": "code",
        "colab": {
          "base_uri": "https://localhost:8080/",
          "height": 34
        },
        "outputId": "1299c0cf-1531-45b7-d711-0e2433d2db42"
      },
      "source": [
        "not(2>3)"
      ],
      "execution_count": 25,
      "outputs": [
        {
          "output_type": "execute_result",
          "data": {
            "text/plain": [
              "True"
            ]
          },
          "metadata": {
            "tags": []
          },
          "execution_count": 25
        }
      ]
    },
    {
      "cell_type": "code",
      "metadata": {
        "id": "JyE42UhG1Jdk",
        "colab_type": "code",
        "colab": {
          "base_uri": "https://localhost:8080/",
          "height": 50
        },
        "outputId": "2e5cb075-248a-44d9-8614-c225603cec30"
      },
      "source": [
        "#variable\n",
        "a=2\n",
        "b=3\n",
        "c=4\n",
        "d=4\n",
        "print(a>b and c>d)\n",
        "print(b<c or  d>c)"
      ],
      "execution_count": 26,
      "outputs": [
        {
          "output_type": "stream",
          "text": [
            "False\n",
            "True\n"
          ],
          "name": "stdout"
        }
      ]
    },
    {
      "cell_type": "code",
      "metadata": {
        "id": "DmuV0fqb1r-0",
        "colab_type": "code",
        "colab": {
          "base_uri": "https://localhost:8080/",
          "height": 34
        },
        "outputId": "14d3dce9-02c2-462c-de0b-d080513ee594"
      },
      "source": [
        "a=2\n",
        "b=3\n",
        "print (\"2>3 ,2>3 \")"
      ],
      "execution_count": 29,
      "outputs": [
        {
          "output_type": "stream",
          "text": [
            "2>3 ,2>3 \n"
          ],
          "name": "stdout"
        }
      ]
    },
    {
      "cell_type": "code",
      "metadata": {
        "id": "-CHp9Emu2s9k",
        "colab_type": "code",
        "colab": {
          "base_uri": "https://localhost:8080/",
          "height": 34
        },
        "outputId": "178dd7ea-f82c-4112-9504-7977e6f0c044"
      },
      "source": [
        "#conditional execution: if,ifelse,elseif,nested if\n",
        "\n",
        "print(\"out side of if block\")"
      ],
      "execution_count": 35,
      "outputs": [
        {
          "output_type": "stream",
          "text": [
            "out side of if block\n"
          ],
          "name": "stdout"
        }
      ]
    },
    {
      "cell_type": "code",
      "metadata": {
        "id": "zsBZ76aU5HCS",
        "colab_type": "code",
        "colab": {
          "base_uri": "https://localhost:8080/",
          "height": 84
        },
        "outputId": "8acdad03-626f-4d16-f344-3616af1c9cc6"
      },
      "source": [
        "a=int(input(\"enter the a value\"))\n",
        "b=int(input(\"enter the b vaule\"))\n",
        "if a>b:\n",
        "  print(\"a is greater than b\")\n",
        "print(\"outside of if block\")"
      ],
      "execution_count": 37,
      "outputs": [
        {
          "output_type": "stream",
          "text": [
            "enter the a value22\n",
            "enter the b vaule14\n",
            "a is greater than b\n",
            "outside of if block\n"
          ],
          "name": "stdout"
        }
      ]
    },
    {
      "cell_type": "code",
      "metadata": {
        "id": "lutr6HtV7JU5",
        "colab_type": "code",
        "colab": {
          "base_uri": "https://localhost:8080/",
          "height": 34
        },
        "outputId": "85d4a69d-3106-4941-b1fe-7e55617df17a"
      },
      "source": [
        "a=5\n",
        "b=15\n",
        "if (a<b):print(\"a is less than b\")"
      ],
      "execution_count": 38,
      "outputs": [
        {
          "output_type": "stream",
          "text": [
            "a is less than b\n"
          ],
          "name": "stdout"
        }
      ]
    },
    {
      "cell_type": "code",
      "metadata": {
        "id": "XYk_iSf17fHb",
        "colab_type": "code",
        "colab": {
          "base_uri": "https://localhost:8080/",
          "height": 84
        },
        "outputId": "32512c0b-1780-4245-9e01-8a4afa580c3a"
      },
      "source": [
        "#nested if(largest of three numbers)\n",
        "x=int(input(\"enter x value\"))\n",
        "y=int(input(\"enter y value\"))\n",
        "z=int(input(\"enter z value\"))\n",
        "if x>y:\n",
        "  if x>z:\n",
        "    print(x,\"is largest\")\n",
        "  else:\n",
        "    print(x,\"is largest\")\n",
        "else:\n",
        "  if y>z:\n",
        "    print(y,\"is largest\")\n",
        "  else:\n",
        "    print(z,\"is largest\")\n"
      ],
      "execution_count": 41,
      "outputs": [
        {
          "output_type": "stream",
          "text": [
            "enter x value1\n",
            "enter y value2\n",
            "enter z value3\n",
            "3 is largest\n"
          ],
          "name": "stdout"
        }
      ]
    },
    {
      "cell_type": "code",
      "metadata": {
        "id": "0-aVVcW89zsf",
        "colab_type": "code",
        "colab": {
          "base_uri": "https://localhost:8080/",
          "height": 34
        },
        "outputId": "66ad7ce6-b8b8-48ef-ba52-812224ca18b0"
      },
      "source": [
        "x,y,z=1,2,3#chained conditions \n",
        "if x>y and x>z:\n",
        "  print(x,\"is largest\")\n",
        "elif y>x and y>z:\n",
        "  print(y,\"is largest\")\n",
        "else: \n",
        "   z>x and z>y\n",
        "   print(z,\"is largest\")"
      ],
      "execution_count": 44,
      "outputs": [
        {
          "output_type": "stream",
          "text": [
            "3 is largest\n"
          ],
          "name": "stdout"
        }
      ]
    },
    {
      "cell_type": "code",
      "metadata": {
        "id": "1uT79JPp_Uu1",
        "colab_type": "code",
        "colab": {
          "base_uri": "https://localhost:8080/",
          "height": 84
        },
        "outputId": "30bc0bc5-3b1b-4049-f2a6-5eb9ffb557ae"
      },
      "source": [
        "x=int(input(\"enter x value\"))\n",
        "y=int(input(\"enter y value\"))\n",
        "z=int(input(\"enter z value\"))\n",
        "if y>x:\n",
        "  if y>z:\n",
        "    print(y,\"is largest\")\n",
        "  else:\n",
        "    print(z,\"is largest\")\n",
        "else:\n",
        "  if x>z:\n",
        "    print(x,\"is largest\")\n",
        "  else:\n",
        "    print(z,\"is largest\") "
      ],
      "execution_count": 46,
      "outputs": [
        {
          "output_type": "stream",
          "text": [
            "enter x value12\n",
            "enter y value13\n",
            "enter z value14\n",
            "14 is largest\n"
          ],
          "name": "stdout"
        }
      ]
    },
    {
      "cell_type": "code",
      "metadata": {
        "id": "hd_7I8lMEvAl",
        "colab_type": "code",
        "colab": {}
      },
      "source": [
        ""
      ],
      "execution_count": null,
      "outputs": []
    }
  ]
}
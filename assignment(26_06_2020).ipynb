{
  "nbformat": 4,
  "nbformat_minor": 0,
  "metadata": {
    "colab": {
      "name": "assignment4(26-06-2020).ipynb",
      "provenance": [],
      "collapsed_sections": [],
      "authorship_tag": "ABX9TyOX7t9wJmDOPmxnH2flTcCn",
      "include_colab_link": true
    },
    "kernelspec": {
      "name": "python3",
      "display_name": "Python 3"
    }
  },
  "cells": [
    {
      "cell_type": "markdown",
      "metadata": {
        "id": "view-in-github",
        "colab_type": "text"
      },
      "source": [
        "<a href=\"https://colab.research.google.com/github/Vuthukaduharitha/Sai-Haritha/blob/master/assignment(26_06_2020).ipynb\" target=\"_parent\"><img src=\"https://colab.research.google.com/assets/colab-badge.svg\" alt=\"Open In Colab\"/></a>"
      ]
    },
    {
      "cell_type": "markdown",
      "metadata": {
        "id": "PEDT8oI-ozDT",
        "colab_type": "text"
      },
      "source": [
        "1.write a python programe to count numbers of characters in a string"
      ]
    },
    {
      "cell_type": "code",
      "metadata": {
        "id": "CjLj001YnKu3",
        "colab_type": "code",
        "colab": {
          "base_uri": "https://localhost:8080/",
          "height": 34
        },
        "outputId": "fcd51b5e-fc15-4efe-f323-4c46c0ba8471"
      },
      "source": [
        "def char_frequency(str1):\n",
        "    dict = {}\n",
        "    for n in str1:\n",
        "        keys = dict.keys()\n",
        "        if n in keys:\n",
        "            dict[n] += 1\n",
        "        else:\n",
        "            dict[n] = 1\n",
        "    return dict\n",
        "print(char_frequency('google.com'))"
      ],
      "execution_count": null,
      "outputs": [
        {
          "output_type": "stream",
          "text": [
            "{'g': 2, 'o': 3, 'l': 1, 'e': 1, '.': 1, 'c': 1, 'm': 1}\n"
          ],
          "name": "stdout"
        }
      ]
    },
    {
      "cell_type": "markdown",
      "metadata": {
        "id": "i4xvEe3uqSm0",
        "colab_type": "text"
      },
      "source": [
        "2.write a python program to get a single string from two given strings,seperated by a space and swap the first two characters of each string"
      ]
    },
    {
      "cell_type": "code",
      "metadata": {
        "id": "8yBwNf1Roqwg",
        "colab_type": "code",
        "colab": {
          "base_uri": "https://localhost:8080/",
          "height": 34
        },
        "outputId": "bb3327f3-298e-4e09-bbef-151a5a4aae53"
      },
      "source": [
        "def chars_mix_up(a, b):\n",
        "  new_a = b[:2] + a[2:]\n",
        "  new_b = a[:2] + b[2:]\n",
        "\n",
        "  return new_a + ' ' + new_b\n",
        "print(chars_mix_up('abc', 'xyz'))"
      ],
      "execution_count": null,
      "outputs": [
        {
          "output_type": "stream",
          "text": [
            "xyc abz\n"
          ],
          "name": "stdout"
        }
      ]
    },
    {
      "cell_type": "markdown",
      "metadata": {
        "id": "J6xuY12Xs1U8",
        "colab_type": "text"
      },
      "source": [
        " 3.write the python script that takes input from the user and displays that input back in upper and lower cases"
      ]
    },
    {
      "cell_type": "code",
      "metadata": {
        "id": "ns13TwQAr6dX",
        "colab_type": "code",
        "colab": {
          "base_uri": "https://localhost:8080/",
          "height": 67
        },
        "outputId": "551b775f-ed55-4cd0-861c-11a8045d570f"
      },
      "source": [
        "user_input = input(\"What's your favourite language? \")\n",
        "print(\"My favourite language is \", user_input.upper())\n",
        "print(\"My favourite language is \", user_input.lower())"
      ],
      "execution_count": null,
      "outputs": [
        {
          "output_type": "stream",
          "text": [
            "What's your favourite language? maths\n",
            "My favourite language is  MATHS\n",
            "My favourite language is  maths\n"
          ],
          "name": "stdout"
        }
      ]
    },
    {
      "cell_type": "markdown",
      "metadata": {
        "id": "LuMK52pptjUY",
        "colab_type": "text"
      },
      "source": [
        "4.write a program to print every character of a string entered by user in a new line using loop"
      ]
    },
    {
      "cell_type": "code",
      "metadata": {
        "id": "L1crB1wuun-P",
        "colab_type": "code",
        "colab": {
          "base_uri": "https://localhost:8080/",
          "height": 168
        },
        "outputId": "99060f61-28c7-4c0a-f3d3-6fda8d37a9c3"
      },
      "source": [
        "string=input(\"enter the string\")\n",
        "print(\"characters in the string\",string,\"are:\")\n",
        "for i in string:\n",
        "    print(i)"
      ],
      "execution_count": null,
      "outputs": [
        {
          "output_type": "stream",
          "text": [
            "enter the stringharitha\n",
            "characters in the string haritha are:\n",
            "h\n",
            "a\n",
            "r\n",
            "i\n",
            "t\n",
            "h\n",
            "a\n"
          ],
          "name": "stdout"
        }
      ]
    },
    {
      "cell_type": "markdown",
      "metadata": {
        "id": "_wXdWzszOcNG",
        "colab_type": "text"
      },
      "source": [
        "5.write a python program to calculate the length of the string"
      ]
    },
    {
      "cell_type": "code",
      "metadata": {
        "id": "k_qSBnQlxYW2",
        "colab_type": "code",
        "colab": {
          "base_uri": "https://localhost:8080/",
          "height": 34
        },
        "outputId": "7c07d4ab-692d-438c-be52-1a5328d4432d"
      },
      "source": [
        "def string_length(str1):\n",
        "    count = 0\n",
        "    for char in str1:\n",
        "        count += 1\n",
        "    return count\n",
        "print(string_length('w3resource.com'))"
      ],
      "execution_count": 1,
      "outputs": [
        {
          "output_type": "stream",
          "text": [
            "14\n"
          ],
          "name": "stdout"
        }
      ]
    },
    {
      "cell_type": "markdown",
      "metadata": {
        "id": "cuk7Y1gDPXs3",
        "colab_type": "text"
      },
      "source": [
        "6.write a python program to remove a newline in python"
      ]
    },
    {
      "cell_type": "code",
      "metadata": {
        "id": "OOEw1SD-POb8",
        "colab_type": "code",
        "colab": {
          "base_uri": "https://localhost:8080/",
          "height": 67
        },
        "outputId": "e62afb07-ff5d-4d86-f272-227e1fdfa2a5"
      },
      "source": [
        "str1='Python Exercises\\n'\n",
        "print(str1)\n",
        "print(str1.rstrip())"
      ],
      "execution_count": 2,
      "outputs": [
        {
          "output_type": "stream",
          "text": [
            "Python Exercises\n",
            "\n",
            "Python Exercises\n"
          ],
          "name": "stdout"
        }
      ]
    },
    {
      "cell_type": "markdown",
      "metadata": {
        "id": "zPADzfo5QFoS",
        "colab_type": "text"
      },
      "source": [
        "7.write a python program to count occurrences of a substring in astring"
      ]
    },
    {
      "cell_type": "code",
      "metadata": {
        "id": "lauLSk-4P_bU",
        "colab_type": "code",
        "colab": {
          "base_uri": "https://localhost:8080/",
          "height": 67
        },
        "outputId": "0f083aad-0ff9-4e89-fad3-a416616345c4"
      },
      "source": [
        "str1 = 'The quick brown fox jumps over the lazy dog.'\n",
        "print()\n",
        "print(str1.count(\"fox\"))\n",
        "print()"
      ],
      "execution_count": 3,
      "outputs": [
        {
          "output_type": "stream",
          "text": [
            "\n",
            "1\n",
            "\n"
          ],
          "name": "stdout"
        }
      ]
    },
    {
      "cell_type": "markdown",
      "metadata": {
        "id": "gCMR133zRAet",
        "colab_type": "text"
      },
      "source": [
        "8.write a python program to convert a string in a list"
      ]
    },
    {
      "cell_type": "code",
      "metadata": {
        "id": "01HjhxDFQ3Zl",
        "colab_type": "code",
        "colab": {
          "base_uri": "https://localhost:8080/",
          "height": 34
        },
        "outputId": "714ce7dc-f5a6-4a7f-f40d-d2aca06de3ed"
      },
      "source": [
        "import ast\n",
        "color =\"['Red', 'Green', 'White']\"\n",
        "print(ast.literal_eval(color))"
      ],
      "execution_count": 4,
      "outputs": [
        {
          "output_type": "stream",
          "text": [
            "['Red', 'Green', 'White']\n"
          ],
          "name": "stdout"
        }
      ]
    },
    {
      "cell_type": "markdown",
      "metadata": {
        "id": "yP7NL1jYRdPQ",
        "colab_type": "text"
      },
      "source": [
        "9.write a python program to perform deletion of a character"
      ]
    },
    {
      "cell_type": "code",
      "metadata": {
        "id": "aNXLB5uLRX4L",
        "colab_type": "code",
        "colab": {
          "base_uri": "https://localhost:8080/",
          "height": 84
        },
        "outputId": "fafe482f-d414-4c2b-d902-67f4209033b7"
      },
      "source": [
        "string=input(\"enter a string\")\n",
        "char=input(\"enter the character to delete:\")\n",
        "print(\"the resultant string is\",string.replace(char ,\"\"))\n",
        "print(\"the deleted char is\",char,\" .\")"
      ],
      "execution_count": 7,
      "outputs": [
        {
          "output_type": "stream",
          "text": [
            "enter a stringharitha\n",
            "enter the character to delete:a\n",
            "the resultant string is hrith\n",
            "the deleted char is a  .\n"
          ],
          "name": "stdout"
        }
      ]
    },
    {
      "cell_type": "markdown",
      "metadata": {
        "id": "R_IZwgMEZkVV",
        "colab_type": "text"
      },
      "source": [
        "10.write a python program to find the length of the string \"refrigerator\" without using len function"
      ]
    },
    {
      "cell_type": "code",
      "metadata": {
        "id": "Q-T-ra4pXmop",
        "colab_type": "code",
        "colab": {
          "base_uri": "https://localhost:8080/",
          "height": 34
        },
        "outputId": "1c2e3640-a4b9-4959-b61b-3dc9301b3652"
      },
      "source": [
        "string = \"refrigerator\"\n",
        "length=0\n",
        "for i in string:\n",
        "    length+=1\n",
        "print(\"the length of the string\",string,\"is:\",length)\n",
        "\n"
      ],
      "execution_count": 10,
      "outputs": [
        {
          "output_type": "stream",
          "text": [
            "the length of the string refrigerator is: 12\n"
          ],
          "name": "stdout"
        }
      ]
    },
    {
      "cell_type": "code",
      "metadata": {
        "id": "Jm2Accw2d4mh",
        "colab_type": "code",
        "colab": {}
      },
      "source": [
        ""
      ],
      "execution_count": null,
      "outputs": []
    }
  ]
}
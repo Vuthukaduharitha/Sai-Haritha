{
  "nbformat": 4,
  "nbformat_minor": 0,
  "metadata": {
    "colab": {
      "name": "assignment 3 (24-06-20).ipynb",
      "provenance": [],
      "collapsed_sections": [],
      "authorship_tag": "ABX9TyMhjszTyDWcSHhX3cYwRTNg",
      "include_colab_link": true
    },
    "kernelspec": {
      "name": "python3",
      "display_name": "Python 3"
    }
  },
  "cells": [
    {
      "cell_type": "markdown",
      "metadata": {
        "id": "view-in-github",
        "colab_type": "text"
      },
      "source": [
        "<a href=\"https://colab.research.google.com/github/Vuthukaduharitha/Sai-Haritha/blob/master/assignment_3_(24_06_20).ipynb\" target=\"_parent\"><img src=\"https://colab.research.google.com/assets/colab-badge.svg\" alt=\"Open In Colab\"/></a>"
      ]
    },
    {
      "cell_type": "markdown",
      "metadata": {
        "id": "j2r-wEJwhigj",
        "colab_type": "text"
      },
      "source": [
        "write a python program to find area of circle using math module"
      ]
    },
    {
      "cell_type": "code",
      "metadata": {
        "id": "vhtoTPtqdQPi",
        "colab_type": "code",
        "colab": {
          "base_uri": "https://localhost:8080/",
          "height": 50
        },
        "outputId": "aaa763e3-69d7-4158-fe65-0ff67a9239af"
      },
      "source": [
        "import math\n",
        "\n",
        "r = float(input('Enter the radius of the circle :'))\n",
        "area = math.pi * r * r\n",
        "\n",
        "print(\"Area of the circle is : %.2f\" %area)"
      ],
      "execution_count": 1,
      "outputs": [
        {
          "output_type": "stream",
          "text": [
            "Enter the radius of the circle :14\n",
            "Area of the circle is : 615.75\n"
          ],
          "name": "stdout"
        }
      ]
    },
    {
      "cell_type": "markdown",
      "metadata": {
        "id": "AO8bNcyrifd-",
        "colab_type": "text"
      },
      "source": [
        "Write a python program to calculate the area of a regular polygon."
      ]
    },
    {
      "cell_type": "code",
      "metadata": {
        "id": "8dcccBNGilr3",
        "colab_type": "code",
        "colab": {
          "base_uri": "https://localhost:8080/",
          "height": 67
        },
        "outputId": "d4dc892c-4e9d-44c9-ac49-7948eb8b087c"
      },
      "source": [
        "from math import tan, pi\n",
        "n_sides = int(input(\"Input number of sides: \"))\n",
        "s_length = float(input(\"Input the length of a side: \"))\n",
        "p_area = n_sides * (s_length ** 2) / (4 * tan(pi / n_sides))\n",
        "print(\"The area of the polygon is: \",p_area)"
      ],
      "execution_count": 2,
      "outputs": [
        {
          "output_type": "stream",
          "text": [
            "Input number of sides: 4\n",
            "Input the length of a side: 20\n",
            "The area of the polygon is:  400.00000000000006\n"
          ],
          "name": "stdout"
        }
      ]
    },
    {
      "cell_type": "markdown",
      "metadata": {
        "id": "OnwqHpZpj3Lh",
        "colab_type": "text"
      },
      "source": [
        "write a program to find area of a segment of a circle formula using math module by"
      ]
    },
    {
      "cell_type": "code",
      "metadata": {
        "id": "MYtct1koj9Sh",
        "colab_type": "code",
        "colab": {
          "base_uri": "https://localhost:8080/",
          "height": 67
        },
        "outputId": "d3ea178e-2340-40de-c858-c482081598f2"
      },
      "source": [
        "from math import sqrt\n",
        "\n",
        "diamStr=input(\"Enter the length of the diameter:   \")\n",
        "\n",
        "diameter=int(diamStr)\n",
        "\n",
        "chordStr = input( \" Enter the chord length:          \")\n",
        "chord = int(chordStr)\n",
        "\n",
        "\n",
        "radius = (diameter/2)\n",
        "\n",
        "s = sqrt (diameter**2+chord**2)\n",
        "\n",
        "h = (s/2-radius)\n",
        "\n",
        "i= (2/3*chord*h)\n",
        "\n",
        "j=(h**3/2*chord)\n",
        "\n",
        "area = (i+j)\n",
        "\n",
        "print (area)\n"
      ],
      "execution_count": 4,
      "outputs": [
        {
          "output_type": "stream",
          "text": [
            "Enter the length of the diameter:   4\n",
            " Enter the chord length:          12\n",
            "519.857702507763\n"
          ],
          "name": "stdout"
        }
      ]
    },
    {
      "cell_type": "markdown",
      "metadata": {
        "id": "mh6sgSjhkTFQ",
        "colab_type": "text"
      },
      "source": [
        ""
      ]
    },
    {
      "cell_type": "markdown",
      "metadata": {
        "id": "jif5XTRGlU6P",
        "colab_type": "text"
      },
      "source": [
        "write a python programe to generate  random number from list 11=[100,1,2,3,30,40]"
      ]
    },
    {
      "cell_type": "code",
      "metadata": {
        "id": "ZMgVJYvDlwaZ",
        "colab_type": "code",
        "colab": {
          "base_uri": "https://localhost:8080/",
          "height": 34
        },
        "outputId": "bf3c85af-191a-4136-e022-81b07e28999b"
      },
      "source": [
        " from random import shuffle\n",
        " colour=['100','1','2','3','30','40']\n",
        " shuffle(colour)\n",
        " print(colour)"
      ],
      "execution_count": 5,
      "outputs": [
        {
          "output_type": "stream",
          "text": [
            "['3', '30', '40', '2', '1', '100']\n"
          ],
          "name": "stdout"
        }
      ]
    },
    {
      "cell_type": "markdown",
      "metadata": {
        "id": "qwyKiLEspSgx",
        "colab_type": "text"
      },
      "source": [
        "write a python programe to generate random numbers b/w 1,10000 and difference\n",
        "b/w each random number is 50"
      ]
    },
    {
      "cell_type": "code",
      "metadata": {
        "id": "9olBypo6pQxP",
        "colab_type": "code",
        "colab": {
          "base_uri": "https://localhost:8080/",
          "height": 34
        },
        "outputId": "a10f1226-ec7a-48c9-8569-b205ab05fff4"
      },
      "source": [
        "import random\n",
        "random.randrange(0,110000,50)"
      ],
      "execution_count": 6,
      "outputs": [
        {
          "output_type": "execute_result",
          "data": {
            "text/plain": [
              "7100"
            ]
          },
          "metadata": {
            "tags": []
          },
          "execution_count": 6
        }
      ]
    },
    {
      "cell_type": "markdown",
      "metadata": {
        "id": "ePxOHnSyqDQI",
        "colab_type": "text"
      },
      "source": [
        "wrte a python program by using math module to find\n",
        "1.sin60"
      ]
    },
    {
      "cell_type": "code",
      "metadata": {
        "id": "SsQFPUPkqCsn",
        "colab_type": "code",
        "colab": {
          "base_uri": "https://localhost:8080/",
          "height": 34
        },
        "outputId": "e2161845-f00b-4961-c871-9c43b1e8a771"
      },
      "source": [
        "import math\n",
        "math.sin(60)"
      ],
      "execution_count": 8,
      "outputs": [
        {
          "output_type": "execute_result",
          "data": {
            "text/plain": [
              "-0.3048106211022167"
            ]
          },
          "metadata": {
            "tags": []
          },
          "execution_count": 8
        }
      ]
    },
    {
      "cell_type": "markdown",
      "metadata": {
        "id": "H5ZZFGK3qhMV",
        "colab_type": "text"
      },
      "source": [
        "2.cos(pi)"
      ]
    },
    {
      "cell_type": "code",
      "metadata": {
        "id": "bTTt7-nkqngZ",
        "colab_type": "code",
        "colab": {
          "base_uri": "https://localhost:8080/",
          "height": 34
        },
        "outputId": "98609491-5038-4988-ec7d-dbcaf2902afb"
      },
      "source": [
        "import math\n",
        "math.cos(pi)"
      ],
      "execution_count": 9,
      "outputs": [
        {
          "output_type": "execute_result",
          "data": {
            "text/plain": [
              "-1.0"
            ]
          },
          "metadata": {
            "tags": []
          },
          "execution_count": 9
        }
      ]
    },
    {
      "cell_type": "markdown",
      "metadata": {
        "id": "zgj34pnvq1ew",
        "colab_type": "text"
      },
      "source": [
        "3.tan90"
      ]
    },
    {
      "cell_type": "code",
      "metadata": {
        "id": "XPBCuVH8q5Pc",
        "colab_type": "code",
        "colab": {
          "base_uri": "https://localhost:8080/",
          "height": 34
        },
        "outputId": "3e570d1f-056a-45d0-b29e-5ef68bb11a6a"
      },
      "source": [
        "import math\n",
        "math.tan(90)"
      ],
      "execution_count": 10,
      "outputs": [
        {
          "output_type": "execute_result",
          "data": {
            "text/plain": [
              "-1.995200412208242"
            ]
          },
          "metadata": {
            "tags": []
          },
          "execution_count": 10
        }
      ]
    },
    {
      "cell_type": "markdown",
      "metadata": {
        "id": "uQpxnSxErGZq",
        "colab_type": "text"
      },
      "source": [
        "4.angle of sin(0.866)"
      ]
    },
    {
      "cell_type": "code",
      "metadata": {
        "colab_type": "code",
        "id": "jKkYwzkzrcUq",
        "colab": {
          "base_uri": "https://localhost:8080/",
          "height": 34
        },
        "outputId": "eaf2d7d9-29f9-4966-a933-5053d2ad866f"
      },
      "source": [
        "import math\n",
        "math.sin(0.866)"
      ],
      "execution_count": 11,
      "outputs": [
        {
          "output_type": "execute_result",
          "data": {
            "text/plain": [
              "0.7617435230913461"
            ]
          },
          "metadata": {
            "tags": []
          },
          "execution_count": 11
        }
      ]
    },
    {
      "cell_type": "markdown",
      "metadata": {
        "id": "MCJwYKjtrlQP",
        "colab_type": "text"
      },
      "source": [
        "5.5^8"
      ]
    },
    {
      "cell_type": "code",
      "metadata": {
        "colab_type": "code",
        "id": "gWihbpQPrtCK",
        "colab": {
          "base_uri": "https://localhost:8080/",
          "height": 34
        },
        "outputId": "5fde4f92-58ea-4a55-a0c7-716e1c0007f1"
      },
      "source": [
        "import math\n",
        "math.pow(5,8)"
      ],
      "execution_count": 12,
      "outputs": [
        {
          "output_type": "execute_result",
          "data": {
            "text/plain": [
              "390625.0"
            ]
          },
          "metadata": {
            "tags": []
          },
          "execution_count": 12
        }
      ]
    },
    {
      "cell_type": "markdown",
      "metadata": {
        "id": "N1c5lZT4r43q",
        "colab_type": "text"
      },
      "source": [
        "6. square root of 400"
      ]
    },
    {
      "cell_type": "code",
      "metadata": {
        "colab_type": "code",
        "id": "KOtd1suhsPgA",
        "colab": {
          "base_uri": "https://localhost:8080/",
          "height": 34
        },
        "outputId": "e015b407-88aa-42fd-917b-439f45f6f4bc"
      },
      "source": [
        "import math\n",
        "sqrt=math.sqrt(400)\n",
        "print(\"square root:\",sqrt)"
      ],
      "execution_count": 13,
      "outputs": [
        {
          "output_type": "stream",
          "text": [
            "square root: 20.0\n"
          ],
          "name": "stdout"
        }
      ]
    },
    {
      "cell_type": "markdown",
      "metadata": {
        "id": "VHiyVc3csrzu",
        "colab_type": "text"
      },
      "source": [
        "7. the value of 5^e"
      ]
    },
    {
      "cell_type": "code",
      "metadata": {
        "id": "w4zlzl7hsp3V",
        "colab_type": "code",
        "colab": {
          "base_uri": "https://localhost:8080/",
          "height": 34
        },
        "outputId": "51282bbb-8962-4b84-9aa6-3f7cef396b44"
      },
      "source": [
        "import math\n",
        "math.exp(5)"
      ],
      "execution_count": 15,
      "outputs": [
        {
          "output_type": "execute_result",
          "data": {
            "text/plain": [
              "148.4131591025766"
            ]
          },
          "metadata": {
            "tags": []
          },
          "execution_count": 15
        }
      ]
    },
    {
      "cell_type": "markdown",
      "metadata": {
        "id": "nXmr7RbMtAra",
        "colab_type": "text"
      },
      "source": [
        "8.the value of log(1024),base 2"
      ]
    },
    {
      "cell_type": "code",
      "metadata": {
        "colab_type": "code",
        "id": "iQhRJnFntNoN",
        "colab": {
          "base_uri": "https://localhost:8080/",
          "height": 34
        },
        "outputId": "df4465c2-b52c-4fa3-cf26-89b81a88a802"
      },
      "source": [
        "import math\n",
        "math.log2(1024)"
      ],
      "execution_count": 16,
      "outputs": [
        {
          "output_type": "execute_result",
          "data": {
            "text/plain": [
              "10.0"
            ]
          },
          "metadata": {
            "tags": []
          },
          "execution_count": 16
        }
      ]
    },
    {
      "cell_type": "markdown",
      "metadata": {
        "id": "OFkfI28ptkX_",
        "colab_type": "text"
      },
      "source": [
        "9. the value of lof(1024),base 10"
      ]
    },
    {
      "cell_type": "code",
      "metadata": {
        "colab_type": "code",
        "id": "6DVFFQDrtyZv",
        "colab": {
          "base_uri": "https://localhost:8080/",
          "height": 34
        },
        "outputId": "29f492d6-ca2e-4511-c53c-7f31fdcec9c1"
      },
      "source": [
        "import math\n",
        "math.log10(1024)"
      ],
      "execution_count": 17,
      "outputs": [
        {
          "output_type": "execute_result",
          "data": {
            "text/plain": [
              "3.010299956639812"
            ]
          },
          "metadata": {
            "tags": []
          },
          "execution_count": 17
        }
      ]
    },
    {
      "cell_type": "markdown",
      "metadata": {
        "id": "M9zAw1ADt6mG",
        "colab_type": "text"
      },
      "source": [
        "10.the floor and ceiling value of 23.56"
      ]
    },
    {
      "cell_type": "code",
      "metadata": {
        "colab_type": "code",
        "id": "mX9n1LNLuLvI",
        "colab": {
          "base_uri": "https://localhost:8080/",
          "height": 34
        },
        "outputId": "29c2abc5-c477-46d3-c9f6-e351681e023a"
      },
      "source": [
        "import math\n",
        "math.floor(23.56)"
      ],
      "execution_count": 18,
      "outputs": [
        {
          "output_type": "execute_result",
          "data": {
            "text/plain": [
              "23"
            ]
          },
          "metadata": {
            "tags": []
          },
          "execution_count": 18
        }
      ]
    },
    {
      "cell_type": "code",
      "metadata": {
        "colab_type": "code",
        "id": "RdNlnyFGuXXv",
        "colab": {
          "base_uri": "https://localhost:8080/",
          "height": 34
        },
        "outputId": "7befd8e9-1b9e-4178-c1a8-035116647814"
      },
      "source": [
        "import math\n",
        "math.ceil(23.56)"
      ],
      "execution_count": 19,
      "outputs": [
        {
          "output_type": "execute_result",
          "data": {
            "text/plain": [
              "24"
            ]
          },
          "metadata": {
            "tags": []
          },
          "execution_count": 19
        }
      ]
    },
    {
      "cell_type": "code",
      "metadata": {
        "id": "L9Wj-TyJubs2",
        "colab_type": "code",
        "colab": {}
      },
      "source": [
        ""
      ],
      "execution_count": null,
      "outputs": []
    }
  ]
}
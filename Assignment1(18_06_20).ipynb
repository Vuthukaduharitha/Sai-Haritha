{
  "nbformat": 4,
  "nbformat_minor": 0,
  "metadata": {
    "colab": {
      "name": "Assignment1(18-06-20).ipynb",
      "provenance": [],
      "collapsed_sections": [],
      "authorship_tag": "ABX9TyPAHTfhCnlMTfoVycWuYpqq",
      "include_colab_link": true
    },
    "kernelspec": {
      "name": "python3",
      "display_name": "Python 3"
    }
  },
  "cells": [
    {
      "cell_type": "markdown",
      "metadata": {
        "id": "view-in-github",
        "colab_type": "text"
      },
      "source": [
        "<a href=\"https://colab.research.google.com/github/Vuthukaduharitha/Sai-Haritha/blob/master/Assignment1(18_06_20).ipynb\" target=\"_parent\"><img src=\"https://colab.research.google.com/assets/colab-badge.svg\" alt=\"Open In Colab\"/></a>"
      ]
    },
    {
      "cell_type": "markdown",
      "metadata": {
        "id": "yqtUgp-iNujx",
        "colab_type": "text"
      },
      "source": [
        "write a python to design simple calculator for the operator"
      ]
    },
    {
      "cell_type": "code",
      "metadata": {
        "id": "Sy8lsrpAPZLj",
        "colab_type": "code",
        "colab": {
          "base_uri": "https://localhost:8080/",
          "height": 168
        },
        "outputId": "160203e4-efd3-4ec8-bc6c-6b4fe7bcd87d"
      },
      "source": [
        "a=int(input(\"enter the value of a\"))\n",
        "b=int(input(\"enter the value of b\"))\n",
        "print(\"sum of two numbers is\" ,a+b)\n",
        "print(\"difference of two numbers\",a-b)\n",
        "print(\"product of the two numbers\",a*b)\n",
        "print(\"division of two numbers is\",a/b)\n",
        "print(\"modules of two numbers is\",a%b)\n",
        "print(\"exponent of the number\",a**b)\n",
        "print(\"floor division\",a//b)"
      ],
      "execution_count": 1,
      "outputs": [
        {
          "output_type": "stream",
          "text": [
            "enter the value of a2\n",
            "enter the value of b3\n",
            "sum of two numbers is 5\n",
            "difference of two numbers -1\n",
            "product of the two numbers 6\n",
            "division of two numbers is 0.6666666666666666\n",
            "modules of two numbers is 2\n",
            "exponent of the number 8\n",
            "floor division 0\n"
          ],
          "name": "stdout"
        }
      ]
    },
    {
      "cell_type": "markdown",
      "metadata": {
        "id": "AkGge8gcaPYR",
        "colab_type": "text"
      },
      "source": [
        "write the python for simple interest"
      ]
    },
    {
      "cell_type": "code",
      "metadata": {
        "id": "7IDVwlAMaDmf",
        "colab_type": "code",
        "colab": {
          "base_uri": "https://localhost:8080/",
          "height": 84
        },
        "outputId": "63c02dd1-757e-4d62-d5fa-f89c89848154"
      },
      "source": [
        "p=int(input(\"enter the value of p\"))\n",
        "t=int(input(\"enter the time\"))\n",
        "r=int(input(\"enter the r\"))\n",
        "print(\"simple interest is\",(p*t*r)/100)\n",
        "p='principal value'\n",
        "t='time'\n",
        "r='interest rate'"
      ],
      "execution_count": 2,
      "outputs": [
        {
          "output_type": "stream",
          "text": [
            "enter the value of p1000\n",
            "enter the time2\n",
            "enter the r2\n",
            "simple interest is 40.0\n"
          ],
          "name": "stdout"
        }
      ]
    },
    {
      "cell_type": "markdown",
      "metadata": {
        "id": "pJUaq4PLc9_1",
        "colab_type": "text"
      },
      "source": [
        "write the python program to calculate area of circle"
      ]
    },
    {
      "cell_type": "code",
      "metadata": {
        "id": "9ujTiXYocQSA",
        "colab_type": "code",
        "colab": {
          "base_uri": "https://localhost:8080/",
          "height": 50
        },
        "outputId": "e78c425a-1f03-4b27-df3d-59eed7b45158"
      },
      "source": [
        "r=\"radius\"\n",
        "r=int(input(\"enter the value of r\"))\n",
        "print(\"area of the circle\",3.14*r**2)"
      ],
      "execution_count": 3,
      "outputs": [
        {
          "output_type": "stream",
          "text": [
            "enter the value of r2\n",
            "area of the circle 12.56\n"
          ],
          "name": "stdout"
        }
      ]
    },
    {
      "cell_type": "markdown",
      "metadata": {
        "id": "TjVWHKs2fMeA",
        "colab_type": "text"
      },
      "source": [
        "write the python program for to calculate area of triangle"
      ]
    },
    {
      "cell_type": "code",
      "metadata": {
        "id": "uKc0MFqmfGwL",
        "colab_type": "code",
        "colab": {
          "base_uri": "https://localhost:8080/",
          "height": 67
        },
        "outputId": "08a3b40e-021f-4135-8528-423be876f158"
      },
      "source": [
        "b='breadth'\n",
        "l='length'\n",
        "b=int(input(\"enter the value of b\"))\n",
        "l=int(input(\"enter the value of l\"))\n",
        "print(\"area of triangle is\",0.5*b*1)\n"
      ],
      "execution_count": 4,
      "outputs": [
        {
          "output_type": "stream",
          "text": [
            "enter the value of b3\n",
            "enter the value of l4\n",
            "area of triangle is 1.5\n"
          ],
          "name": "stdout"
        }
      ]
    },
    {
      "cell_type": "markdown",
      "metadata": {
        "id": "UvJsZkDngSZT",
        "colab_type": "text"
      },
      "source": [
        "write the python programe to temperaturein celsius to fahrenheit"
      ]
    },
    {
      "cell_type": "code",
      "metadata": {
        "id": "UfwVQxnWgIr2",
        "colab_type": "code",
        "colab": {
          "base_uri": "https://localhost:8080/",
          "height": 50
        },
        "outputId": "16b72f46-c51d-41a3-d17d-718c9caecbdd"
      },
      "source": [
        "c=\"celsius temperature\"\n",
        "c=float(input(\"enter thevalue of c\"))\n",
        "fahrenheit=(1.8*c+32)\n",
        "print(\"celsius to fahrenheit is\",fahrenheit)"
      ],
      "execution_count": 5,
      "outputs": [
        {
          "output_type": "stream",
          "text": [
            "enter thevalue of c37.5\n",
            "celsius to fahrenheit is 99.5\n"
          ],
          "name": "stdout"
        }
      ]
    },
    {
      "cell_type": "markdown",
      "metadata": {
        "id": "nNt_mcQbh9qf",
        "colab_type": "text"
      },
      "source": [
        "write a python program to calcualate the area of rectangle"
      ]
    },
    {
      "cell_type": "code",
      "metadata": {
        "id": "LmbR1rQCh5Dv",
        "colab_type": "code",
        "colab": {
          "base_uri": "https://localhost:8080/",
          "height": 67
        },
        "outputId": "4befd581-8d4c-4f9c-db5a-92f8264f3853"
      },
      "source": [
        "l=\"length\"\n",
        "b=\"breadth\"\n",
        "l=int(input(\"enter the value of l\"))\n",
        "b=int(input(\"enter the value of b\"))\n",
        "print(\"area of rectangle is\",l*b)"
      ],
      "execution_count": 6,
      "outputs": [
        {
          "output_type": "stream",
          "text": [
            "enter the value of l5\n",
            "enter the value of b4\n",
            "area of rectangle is 20\n"
          ],
          "name": "stdout"
        }
      ]
    },
    {
      "cell_type": "markdown",
      "metadata": {
        "id": "FyOIuPmTjEcu",
        "colab_type": "text"
      },
      "source": [
        "write a python program to calcualate perimeter osf square"
      ]
    },
    {
      "cell_type": "code",
      "metadata": {
        "id": "we7MJVlli_au",
        "colab_type": "code",
        "colab": {
          "base_uri": "https://localhost:8080/",
          "height": 50
        },
        "outputId": "d3fa9cef-29dd-45c1-df1c-9529a313ed19"
      },
      "source": [
        "a=\"side of square\"\n",
        "a=int(input(\"enter the value of a\"))\n",
        "print(\"perimeter of square is\",4*a)"
      ],
      "execution_count": 7,
      "outputs": [
        {
          "output_type": "stream",
          "text": [
            "enter the value of a2\n",
            "perimeter of square is 8\n"
          ],
          "name": "stdout"
        }
      ]
    },
    {
      "cell_type": "markdown",
      "metadata": {
        "id": "nMaeWr2_kHFY",
        "colab_type": "text"
      },
      "source": [
        "write a python program to calculate circumference of a circle"
      ]
    },
    {
      "cell_type": "code",
      "metadata": {
        "id": "xhDCoeN8kDnc",
        "colab_type": "code",
        "colab": {
          "base_uri": "https://localhost:8080/",
          "height": 50
        },
        "outputId": "81ff6391-6bc4-49c3-97fc-6ec6e457c0b8"
      },
      "source": [
        "r=\"radius of circle\"\n",
        "r=int(input(\"enter the value of r\"))\n",
        "print(\"circumferece of circle is\",2*3.14*r)"
      ],
      "execution_count": 8,
      "outputs": [
        {
          "output_type": "stream",
          "text": [
            "enter the value of r4\n",
            "circumferece of circle is 25.12\n"
          ],
          "name": "stdout"
        }
      ]
    },
    {
      "cell_type": "markdown",
      "metadata": {
        "id": "mXYpwwS1k942",
        "colab_type": "text"
      },
      "source": [
        "write a python program to swap "
      ]
    },
    {
      "cell_type": "code",
      "metadata": {
        "id": "9Sd-51yQk6bz",
        "colab_type": "code",
        "colab": {
          "base_uri": "https://localhost:8080/",
          "height": 84
        },
        "outputId": "7c1ec5f8-6878-4184-df93-cb24d34cfe38"
      },
      "source": [
        "x=int(input(\"enter the value of x\"))\n",
        "y=int(input(\"enter the value of y\"))\n",
        "temp='x'\n",
        "x='y'\n",
        "y='temp'\n",
        "print(\"the value of x after swapping\",x)\n",
        "print(\"the value of y after swapping\",y)"
      ],
      "execution_count": 9,
      "outputs": [
        {
          "output_type": "stream",
          "text": [
            "enter the value of x3\n",
            "enter the value of y5\n",
            "the value of x after swapping y\n",
            "the value of y after swapping temp\n"
          ],
          "name": "stdout"
        }
      ]
    },
    {
      "cell_type": "code",
      "metadata": {
        "id": "KAuxdf30m0vO",
        "colab_type": "code",
        "colab": {}
      },
      "source": [
        ""
      ],
      "execution_count": null,
      "outputs": []
    }
  ]
}